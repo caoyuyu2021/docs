{
 "cells": [
  {
   "cell_type": "markdown",
   "id": "3b76ec29",
   "metadata": {},
   "source": [
    "# 描述性分析 ( Descriptive Analysis )"
   ]
  },
  {
   "cell_type": "markdown",
   "id": "66f05bda",
   "metadata": {},
   "source": [
    "描述性分析是数据分析的基础，它涉及对数据进行总结和解释，以了解数据集的基本特征和模式。这种分析通常会使用统计学的方法，如平均数、中位数、众数、方差、标准差等，来描述数据集中的关键特性。\n",
    "\n",
    "举例：假设一个电商公司想要了解其销售数据。数据分析师可能会计算每个产品的总销售额、平均销售额、最佳销售月份等统计信息。通过这些描述性统计，公司可以了解哪些产品最受欢迎，以及销售高峰期在何时。"
   ]
  },
  {
   "cell_type": "markdown",
   "id": "aed5ec8c",
   "metadata": {},
   "source": [
    "# 诊断性分析 ( Diagnostic Analysis )"
   ]
  },
  {
   "cell_type": "markdown",
   "id": "bd466825",
   "metadata": {},
   "source": [
    "诊断性分析旨在深入了解数据背后的原因和关系。它涉及识别数据中的特定模式、趋势或异常，并探究导致这些现象的潜在原因。\n",
    "\n",
    "举例：如果电商公司的销售数据显示某个产品的销售额突然下降，数据分析师可能会进行诊断性分析，以确定下降的原因。这可能包括检查产品评论、市场趋势、竞争对手活动、供应链问题等因素。通过这种分析，公司可以发现问题的根源并采取相应的措施。\n",
    "\n",
    "例子：假设一家连锁超市发现某个分店的销售额在过去几个月里持续下降。为了找出原因并采取措施，他们决定进行诊断性分析。\n",
    "\n",
    "数据：\n",
    "\n",
    "该分店的历史销售数据，包括每日销售额、客流量、平均消费额等。\n",
    "\n",
    "竞争对手的信息，如促销活动、价格变动等。\n",
    "\n",
    "客户满意度调查结果\n",
    "\n",
    "分析过程：\n",
    "\n",
    "数据收集：收集上述数据，并确保数据的质量和完整性。\n",
    "\n",
    "初步观察：查看销售数据的时间序列图，确定销售额下降的时间点和模式。\n",
    "\n",
    "比较分析：将该分店的销售数据与其他地区分店的数据进行比较，以及与竞争对手的销售情况进行对比。\n",
    "相关性分析：分析客流量、平均消费额与销售额之间的关系，以及其他可能影响销售的因素 ( 如节假日、促销活动 ) 。\n",
    "\n",
    "深入调查：基于初步分析的结果，可能需要进一步调查，例如客户满意度调查中是否提到了服务或产品的问题。\n",
    "\n",
    "模型建立：如果有必要，可以建立回归模型来分析不同因素对销售额的影响程度。\n",
    "\n",
    "结果：通过分析，可能发现以下几个原因导致了销售额的下降：\n",
    "\n",
    "客流量减少，可能是因为附近开了一家新的购物中心，吸引了部分顾客。\n",
    "\n",
    "竞争对手进行了大规模的促销活动，而该分店没有相应的策略。\n",
    "\n",
    "客户满意度调查显示，顾客对该分店的服务质量和产品种类不满意。\n",
    "\n",
    "针对这些发现，超市管理层可以采取相应的措施，如提高服务质量、增加产品多样性、进行针对性的促销活动等，以期提升销售额。\n",
    "\n",
    "总结来说，这个例子展示了诊断性分析如何帮助理解数据背后的原因，并为解决问题提供方向。"
   ]
  },
  {
   "cell_type": "markdown",
   "id": "bcee6bd7",
   "metadata": {},
   "source": [
    "# 预测性分析 ( Predictive Analysis )"
   ]
  },
  {
   "cell_type": "markdown",
   "id": "5777f928",
   "metadata": {},
   "source": [
    "预测性分析使用历史数据和统计模型来预测未来事件的可能性。这种分析通常涉及机器学习算法、时间序列分析和其他高级统计技术。\n",
    "\n",
    "举例：基于过去的销售数据和季节性趋势，电商公司可能希望预测未来的销售情况。数据分析师可以使用时间序列分析或构建预测模型 ( 如回归模型、神经网络等 ) 来预测接下来几个月的销售趋势。这有助于公司做出库存管理决策、营销策略规划和预算分配。\n",
    "\n",
    "总结来说，描述性分析帮助了解数据的现状，诊断性分析帮助理解数据背后的原因，而预测性分析则帮助预测未来的趋势和行为。数据分析师根据不同的业务需求和目标，选择合适的分析方法来提取数据的价值。"
   ]
  },
  {
   "cell_type": "code",
   "execution_count": null,
   "id": "24e53a1e",
   "metadata": {},
   "outputs": [],
   "source": []
  }
 ],
 "metadata": {
  "hide_input": false,
  "kernelspec": {
   "display_name": "Python 3 (ipykernel)",
   "language": "python",
   "name": "python3"
  },
  "language_info": {
   "codemirror_mode": {
    "name": "ipython",
    "version": 3
   },
   "file_extension": ".py",
   "mimetype": "text/x-python",
   "name": "python",
   "nbconvert_exporter": "python",
   "pygments_lexer": "ipython3",
   "version": "3.11.5"
  },
  "toc": {
   "base_numbering": 1,
   "nav_menu": {},
   "number_sections": true,
   "sideBar": true,
   "skip_h1_title": false,
   "title_cell": "Table of Contents",
   "title_sidebar": "Contents",
   "toc_cell": false,
   "toc_position": {
    "height": "calc(100% - 180px)",
    "left": "10px",
    "top": "150px",
    "width": "193.667px"
   },
   "toc_section_display": true,
   "toc_window_display": true
  },
  "varInspector": {
   "cols": {
    "lenName": 16,
    "lenType": 16,
    "lenVar": 40
   },
   "kernels_config": {
    "python": {
     "delete_cmd_postfix": "",
     "delete_cmd_prefix": "del ",
     "library": "var_list.py",
     "varRefreshCmd": "print(var_dic_list())"
    },
    "r": {
     "delete_cmd_postfix": ") ",
     "delete_cmd_prefix": "rm(",
     "library": "var_list.r",
     "varRefreshCmd": "cat(var_dic_list()) "
    }
   },
   "types_to_exclude": [
    "module",
    "function",
    "builtin_function_or_method",
    "instance",
    "_Feature"
   ],
   "window_display": false
  }
 },
 "nbformat": 4,
 "nbformat_minor": 5
}
